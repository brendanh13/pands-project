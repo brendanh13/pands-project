{
 "cells": [
  {
   "cell_type": "code",
   "execution_count": 21,
   "id": "d3d53691",
   "metadata": {},
   "outputs": [],
   "source": [
    "# Importing Python Libraries\n",
    "\n",
    "# This will be used to import all the required Python libraries for the Project\n",
    "\n",
    "import pandas as pd\n",
    "import matplotlib.pyplot as plt"
   ]
  },
  {
   "cell_type": "code",
   "execution_count": 22,
   "id": "d6ffb806",
   "metadata": {},
   "outputs": [],
   "source": [
    "# Importing the Data \n",
    "\n",
    "# The Iris data set has been downloaded from the internet in .csv format and saved in the current directory\n",
    "# We will use the Pandas Dataframe methodology as the key Python concept for analysis in this Notebook [1]\n",
    "# We proceed to use the read_csv command to read the iris.csv file into our program\n",
    "# A typical way of referencing the data when using pandas is \"df\" so here we are setting the dataset variable to be \"df\"\n",
    "\n",
    "df = pd.read_csv('iris.csv')"
   ]
  },
  {
   "cell_type": "code",
   "execution_count": 23,
   "id": "a1dab9e6",
   "metadata": {
    "scrolled": false
   },
   "outputs": [
    {
     "name": "stdout",
     "output_type": "stream",
     "text": [
      "   sepallength  sepalwidth  petallength  petalwidth        class\n",
      "0          5.1         3.5          1.4         0.2  Iris-setosa\n",
      "1          4.9         3.0          1.4         0.2  Iris-setosa\n",
      "2          4.7         3.2          1.3         0.2  Iris-setosa\n",
      "3          4.6         3.1          1.5         0.2  Iris-setosa\n",
      "4          5.0         3.6          1.4         0.2  Iris-setosa\n"
     ]
    }
   ],
   "source": [
    "# Data at First Glance\n",
    "\n",
    "# To get our first glance at the data - we use the head command - this will return the top 5 rows of the dataset by default\n",
    "# This confirms what our analysis has pointed to:\n",
    "# 5 columnsm, 4 of which appear to be numbers and the last column which is the class column containing the species of the flower\n",
    "\n",
    "print(df.head())\n"
   ]
  },
  {
   "cell_type": "code",
   "execution_count": 24,
   "id": "a022daf2",
   "metadata": {
    "scrolled": true
   },
   "outputs": [
    {
     "name": "stdout",
     "output_type": "stream",
     "text": [
      "     sepallength  sepalwidth  petallength  petalwidth           class\n",
      "145          6.7         3.0          5.2         2.3  Iris-virginica\n",
      "146          6.3         2.5          5.0         1.9  Iris-virginica\n",
      "147          6.5         3.0          5.2         2.0  Iris-virginica\n",
      "148          6.2         3.4          5.4         2.3  Iris-virginica\n",
      "149          5.9         3.0          5.1         1.8  Iris-virginica\n"
     ]
    }
   ],
   "source": [
    "# Data at First Glance\n",
    "\n",
    "# We can also look at the bottom of the data set using the tail function.\n",
    "# The benefit of this is that it will confirm to us the number of rows in set\n",
    "\n",
    "print(df.tail())"
   ]
  },
  {
   "cell_type": "markdown",
   "id": "97116f76",
   "metadata": {},
   "source": [
    "As the index column goes from 0 to 149; this confirms to us that there are 150 rows in the data set."
   ]
  },
  {
   "cell_type": "code",
   "execution_count": 25,
   "id": "72423d7b",
   "metadata": {},
   "outputs": [],
   "source": [
    "# Column name of class I want to change to be \"species\"\n",
    "\n",
    "df.rename(columns={\"class\":\"species\"}, inplace=True) #adding inplace=True means the underlying data is changed"
   ]
  },
  {
   "cell_type": "code",
   "execution_count": 26,
   "id": "d24ef6a8",
   "metadata": {},
   "outputs": [
    {
     "name": "stdout",
     "output_type": "stream",
     "text": [
      "sepallength    0\n",
      "sepalwidth     0\n",
      "petallength    0\n",
      "petalwidth     0\n",
      "species        0\n",
      "dtype: int64\n"
     ]
    }
   ],
   "source": [
    "# Data Types / Quality\n",
    "\n",
    "# We want to confirm the data is as expected and that there are no gaps in it before we start to use it.\n",
    "# We will start by looking if there are any null values\n",
    "# Using an isnull function - I am asking it to count the number of null values in each colum [2]\n",
    "\n",
    "print(df.isnull().sum())"
   ]
  },
  {
   "cell_type": "code",
   "execution_count": 27,
   "id": "19303470",
   "metadata": {
    "scrolled": true
   },
   "outputs": [
    {
     "name": "stdout",
     "output_type": "stream",
     "text": [
      "<class 'pandas.core.frame.DataFrame'>\n",
      "RangeIndex: 150 entries, 0 to 149\n",
      "Data columns (total 5 columns):\n",
      " #   Column       Non-Null Count  Dtype  \n",
      "---  ------       --------------  -----  \n",
      " 0   sepallength  150 non-null    float64\n",
      " 1   sepalwidth   150 non-null    float64\n",
      " 2   petallength  150 non-null    float64\n",
      " 3   petalwidth   150 non-null    float64\n",
      " 4   species      150 non-null    object \n",
      "dtypes: float64(4), object(1)\n",
      "memory usage: 6.0+ KB\n",
      "None\n"
     ]
    }
   ],
   "source": [
    "# Data Types / Quality\n",
    "\n",
    "# The info function will provide us with further understanding about the data\n",
    "\n",
    "print(df.info())"
   ]
  },
  {
   "cell_type": "markdown",
   "id": "f4b078e3",
   "metadata": {},
   "source": [
    "To explain my understanding of the output of df.info;\n",
    "\n",
    "Line 1: <class 'pandas.core.frame.DataFrame'>\n",
    "    -> Confirms to me that we are dealing with a Pandas DataFrame (as expected)\n",
    "\n",
    "Line 2: RangeIndex: 150 entries, 0 to 149\n",
    "    -> 150 different rows of data (correct - as per earlier research)\n",
    "    \n",
    "Lines 4 - 10:\n",
    "    -> Small table clarifies what we are dealing with further:\n",
    "        i.   That each of the columns have 150 non-null values\n",
    "        ii.  That the data types for the length / width fields are float64\n",
    "        iii. That the data type for the the species is an object\n",
    "\n"
   ]
  },
  {
   "cell_type": "code",
   "execution_count": 29,
   "id": "5bd99f72",
   "metadata": {},
   "outputs": [
    {
     "name": "stdout",
     "output_type": "stream",
     "text": [
      "species\n",
      "Iris-setosa        50\n",
      "Iris-versicolor    50\n",
      "Iris-virginica     50\n",
      "dtype: int64\n"
     ]
    }
   ],
   "source": [
    "# Raw Data Analysis\n",
    "\n",
    "# Before we move to the more visual techniques of plotting and charting - I first want to review the data by looking\n",
    "# at it directly and making my own determinations on certain things.\n",
    "\n",
    "# e.g what can I learn by grouping certain things together\n",
    "\n",
    "# Firstly - I am going to group the species class together (which is the species) to see how these are distributed \n",
    "# Python / Pandas has a few ways we can do this - first choice here is a groupby concept where I want to group by the class\n",
    "# and compute the size of this group [3]\n",
    "\n",
    "print(df.groupby('species').size())  "
   ]
  },
  {
   "cell_type": "markdown",
   "id": "7807082d",
   "metadata": {},
   "source": [
    "The output here tells me that there is an even distribution of species; that is there are 50 of each of the 3 types of Iris"
   ]
  },
  {
   "cell_type": "code",
   "execution_count": 30,
   "id": "4c24d7b2",
   "metadata": {
    "scrolled": true
   },
   "outputs": [
    {
     "name": "stdout",
     "output_type": "stream",
     "text": [
      "species\n",
      "Iris-setosa        50\n",
      "Iris-versicolor    50\n",
      "Iris-virginica     50\n",
      "dtype: int64\n"
     ]
    }
   ],
   "source": [
    "# An additional method of retrieving the same output is to use the value_counts concept - again focusing only on the species [4]\n",
    "\n",
    "print(df.value_counts(\"species\"))"
   ]
  },
  {
   "cell_type": "markdown",
   "id": "45027bab",
   "metadata": {},
   "source": [
    "I am going to proceed to use the groupby concept to try learn some more about the individual species."
   ]
  },
  {
   "cell_type": "code",
   "execution_count": 12,
   "id": "ff7877e0",
   "metadata": {},
   "outputs": [
    {
     "name": "stdout",
     "output_type": "stream",
     "text": [
      "       sepallength  sepalwidth  petallength  petalwidth\n",
      "count   150.000000  150.000000   150.000000  150.000000\n",
      "mean      5.843333    3.054000     3.758667    1.198667\n",
      "std       0.828066    0.433594     1.764420    0.763161\n",
      "min       4.300000    2.000000     1.000000    0.100000\n",
      "25%       5.100000    2.800000     1.600000    0.300000\n",
      "50%       5.800000    3.000000     4.350000    1.300000\n",
      "75%       6.400000    3.300000     5.100000    1.800000\n",
      "max       7.900000    4.400000     6.900000    2.500000\n"
     ]
    }
   ],
   "source": [
    "# The standard describe() function within Pandas is very informative however this includes analysis of all 150 rows and \n",
    "# I dont learn anything about the individual species\n",
    "\n",
    "print(df.describe())"
   ]
  },
  {
   "cell_type": "code",
   "execution_count": 31,
   "id": "98760556",
   "metadata": {},
   "outputs": [
    {
     "name": "stdout",
     "output_type": "stream",
     "text": [
      "                 max  min   mean\n",
      "species                         \n",
      "Iris-setosa      5.8  4.3  5.006\n",
      "Iris-versicolor  7.0  4.9  5.936\n",
      "Iris-virginica   7.9  4.9  6.588\n",
      "                 max  min   mean\n",
      "species                         \n",
      "Iris-setosa      1.9  1.0  1.464\n",
      "Iris-versicolor  5.1  3.0  4.260\n",
      "Iris-virginica   6.9  4.5  5.552\n",
      "                 max  min   mean\n",
      "species                         \n",
      "Iris-setosa      4.4  2.3  3.418\n",
      "Iris-versicolor  3.4  2.0  2.770\n",
      "Iris-virginica   3.8  2.2  2.974\n",
      "                 max  min   mean\n",
      "species                         \n",
      "Iris-setosa      0.6  0.1  0.244\n",
      "Iris-versicolor  1.8  1.0  1.326\n",
      "Iris-virginica   2.5  1.4  2.026\n"
     ]
    }
   ],
   "source": [
    "# To get similar informations on particualr species - I need to add in a groupby on the class.\n",
    "# I am also here going to do one column at a time (e.g sepallength) so that the output is not too confusing.\n",
    "\n",
    "print(df.groupby('species')['sepallength'].describe()[['max','min','mean']])\n",
    "print(df.groupby('species')['petallength'].describe()[['max','min','mean']])\n",
    "print(df.groupby('species')['sepalwidth'].describe()[['max','min','mean']])\n",
    "print(df.groupby('species')['petalwidth'].describe()[['max','min','mean']])"
   ]
  },
  {
   "cell_type": "markdown",
   "id": "3d0316b7",
   "metadata": {},
   "source": [
    "When I review the output above - I can quickly make some basic statements about certain species:\n",
    "\n",
    "a. Both the maximum petalwidth (0.6) and petallength (1.9) of the Iris-setosa are less than the minimum petalwidth (1/1.4) and petallength (3/4.5) of both other species => the petals of the Iris-setosa are typically always smaller than Iris-versicolor and Iris-virginica\n",
    "\n",
    "b. The characteristics of the sepals are not as conclusive - all three species share a minimum sepallength in the 4.3 - 4.9 range and a minimum sepalwidth in the 2 - 2.3 range.  We cannot make any explicit statements with regards to sepals like we could with petals in a. above\n",
    "\n",
    "c. Even though the Iris-setosa has the smallest petals; the sepals of the Iris-setosa are wider (Mean = 3.418) than both the others (Means are 2.770/2.974) => the Iris-setosa coule be described as having very small petals with much larger sepals\n",
    "\n",
    "d. Both the Iris-versicolor and Iris-virginica share quite relatively similar attributes sizings at first glance - it will be interesting to see how these look when we start to plot these later. "
   ]
  },
  {
   "cell_type": "markdown",
   "id": "859ed8f2",
   "metadata": {},
   "source": [
    "Analysis thus far has been on the 4 columns of numbers; the legnths and widths of the sepals and petals of each flower. I am going to now see if I can learn anything by combining the length and width together.  I will do a multiplication; that is length * width and we will call this the area (e.g sepalarea) Similar to getting the area of a regular shape like a rectangle - the formula for this is length * width.  Even though these flower parts are not regular shapes - I still believe we can learn something more about the individual species by doing this area style calculation"
   ]
  },
  {
   "cell_type": "code",
   "execution_count": 32,
   "id": "b5ea7cb7",
   "metadata": {},
   "outputs": [],
   "source": [
    "# Adding new columns to the Pandas Dataframe\n",
    "\n",
    "# To add the columns we need to provide a name for the new column and the forumla to derive the new column [5]\n",
    "\n",
    "df[\"sepalarea\"] = (df.sepallength*df.sepalwidth)\n",
    "df[\"petalarea\"] = (df.petallength*df.petalwidth)"
   ]
  },
  {
   "cell_type": "code",
   "execution_count": 33,
   "id": "4e102337",
   "metadata": {},
   "outputs": [
    {
     "data": {
      "text/html": [
       "<div>\n",
       "<style scoped>\n",
       "    .dataframe tbody tr th:only-of-type {\n",
       "        vertical-align: middle;\n",
       "    }\n",
       "\n",
       "    .dataframe tbody tr th {\n",
       "        vertical-align: top;\n",
       "    }\n",
       "\n",
       "    .dataframe thead th {\n",
       "        text-align: right;\n",
       "    }\n",
       "</style>\n",
       "<table border=\"1\" class=\"dataframe\">\n",
       "  <thead>\n",
       "    <tr style=\"text-align: right;\">\n",
       "      <th></th>\n",
       "      <th>sepallength</th>\n",
       "      <th>sepalwidth</th>\n",
       "      <th>petallength</th>\n",
       "      <th>petalwidth</th>\n",
       "      <th>species</th>\n",
       "      <th>sepalarea</th>\n",
       "      <th>petalarea</th>\n",
       "    </tr>\n",
       "  </thead>\n",
       "  <tbody>\n",
       "    <tr>\n",
       "      <th>0</th>\n",
       "      <td>5.1</td>\n",
       "      <td>3.5</td>\n",
       "      <td>1.4</td>\n",
       "      <td>0.2</td>\n",
       "      <td>Iris-setosa</td>\n",
       "      <td>17.85</td>\n",
       "      <td>0.28</td>\n",
       "    </tr>\n",
       "    <tr>\n",
       "      <th>1</th>\n",
       "      <td>4.9</td>\n",
       "      <td>3.0</td>\n",
       "      <td>1.4</td>\n",
       "      <td>0.2</td>\n",
       "      <td>Iris-setosa</td>\n",
       "      <td>14.70</td>\n",
       "      <td>0.28</td>\n",
       "    </tr>\n",
       "    <tr>\n",
       "      <th>2</th>\n",
       "      <td>4.7</td>\n",
       "      <td>3.2</td>\n",
       "      <td>1.3</td>\n",
       "      <td>0.2</td>\n",
       "      <td>Iris-setosa</td>\n",
       "      <td>15.04</td>\n",
       "      <td>0.26</td>\n",
       "    </tr>\n",
       "    <tr>\n",
       "      <th>3</th>\n",
       "      <td>4.6</td>\n",
       "      <td>3.1</td>\n",
       "      <td>1.5</td>\n",
       "      <td>0.2</td>\n",
       "      <td>Iris-setosa</td>\n",
       "      <td>14.26</td>\n",
       "      <td>0.30</td>\n",
       "    </tr>\n",
       "    <tr>\n",
       "      <th>4</th>\n",
       "      <td>5.0</td>\n",
       "      <td>3.6</td>\n",
       "      <td>1.4</td>\n",
       "      <td>0.2</td>\n",
       "      <td>Iris-setosa</td>\n",
       "      <td>18.00</td>\n",
       "      <td>0.28</td>\n",
       "    </tr>\n",
       "  </tbody>\n",
       "</table>\n",
       "</div>"
      ],
      "text/plain": [
       "   sepallength  sepalwidth  petallength  petalwidth      species  sepalarea  \\\n",
       "0          5.1         3.5          1.4         0.2  Iris-setosa      17.85   \n",
       "1          4.9         3.0          1.4         0.2  Iris-setosa      14.70   \n",
       "2          4.7         3.2          1.3         0.2  Iris-setosa      15.04   \n",
       "3          4.6         3.1          1.5         0.2  Iris-setosa      14.26   \n",
       "4          5.0         3.6          1.4         0.2  Iris-setosa      18.00   \n",
       "\n",
       "   petalarea  \n",
       "0       0.28  \n",
       "1       0.28  \n",
       "2       0.26  \n",
       "3       0.30  \n",
       "4       0.28  "
      ]
     },
     "execution_count": 33,
     "metadata": {},
     "output_type": "execute_result"
    }
   ],
   "source": [
    "# Looking at the data - we now see the additional two columns at the end\n",
    "\n",
    "df.head()"
   ]
  },
  {
   "cell_type": "code",
   "execution_count": 34,
   "id": "bb5e3fcb",
   "metadata": {},
   "outputs": [
    {
     "name": "stdout",
     "output_type": "stream",
     "text": [
      "                   max    min     mean\n",
      "species                               \n",
      "Iris-setosa      25.08  10.35  17.2088\n",
      "Iris-versicolor  22.40  10.00  16.5262\n",
      "Iris-virginica   30.02  12.25  19.6846\n",
      "                   max   min     mean\n",
      "species                              \n",
      "Iris-setosa       0.96  0.11   0.3628\n",
      "Iris-versicolor   8.64  3.30   5.7204\n",
      "Iris-virginica   15.87  7.50  11.2962\n"
     ]
    }
   ],
   "source": [
    "# Then to see if I can find this useful - I will use an earlier groupby function to help analyse the areas\n",
    "\n",
    "print(df.groupby('species')['sepalarea'].describe()[['max','min','mean']])\n",
    "print(df.groupby('species')['petalarea'].describe()[['max','min','mean']])"
   ]
  },
  {
   "cell_type": "markdown",
   "id": "824f27d4",
   "metadata": {},
   "source": [
    "With a quick view of this data - again I can see some obvious trends repeating themselves and some new information appearing:\n",
    "\n",
    "a. sepalarea confirms that the sepal size is relatively similar as the means are all between 17.2 and 19.7\n",
    "\n",
    "b. petalarea clarifies that the Iris-setosa has a much smaller petal however the petalarea for the other two species has a much broader range in mean than i expected.  Iris-versicolor has a mean petal area of 5.7204 while the Iris-virginica is nearly double that at 11.2962.  I found this interesting as the mean petallength value for these species was much closer in size; 4.26 v 5.552"
   ]
  },
  {
   "cell_type": "markdown",
   "id": "f3fd4526",
   "metadata": {},
   "source": [
    "The next section of analysis will involve more visual techniques such as charting and plotting.\n",
    "The Python library Matplotlib will be used to help us produce useful and meaningful output so that we can better understand the Iris dataset."
   ]
  },
  {
   "cell_type": "code",
   "execution_count": 35,
   "id": "d0b300a8",
   "metadata": {},
   "outputs": [
    {
     "data": {
      "image/png": "[encoded data removed]",
      "text/plain": [
       "<Figure size 432x288 with 4 Axes>"
      ]
     },
     "metadata": {
      "needs_background": "light"
     },
     "output_type": "display_data"
    }
   ],
   "source": [
    "# We will start with the standard histogram of each variable\n",
    "\n",
    "plt.subplot(2,2,1)\n",
    "\n",
    "plt.hist(df['sepallength'], bins = 15)\n",
    "\n",
    "plt.title('Iris - Sepal Lengths')\n",
    "\n",
    "plt.subplot(2,2,2)\n",
    "\n",
    "plt.hist(df['sepalwidth'], bins = 15, color = 'red')\n",
    "\n",
    "plt.title('Iris - Sepal Widths')\n",
    "\n",
    "plt.subplot(2,2,3)\n",
    "\n",
    "plt.hist(df['petallength'], bins = 15, color = 'orange')\n",
    "\n",
    "plt.title('Iris - Petal Lengths')\n",
    "\n",
    "plt.subplot(2,2,4)\n",
    "\n",
    "plt.hist(df['petalwidth'], bins = 15, color = 'green')\n",
    "\n",
    "plt.title('Iris - Petal Widths')\n",
    "\n",
    "plt.show()"
   ]
  },
  {
   "cell_type": "markdown",
   "id": "c158e0bb",
   "metadata": {},
   "source": [
    "From a quick look at the individual plots - we can see the sepals along the top appear to be relatively normally distributed while the petals do not follow that pattern.  It is likely this skew on the data of petals is due to differing attributes of certain species.  I am expecting this to be the Iris-setosa which we learned to have much smaller petals in the earlier analysis of the numbers however we will now try and plot this to further confirm this theory."
   ]
  },
  {
   "cell_type": "markdown",
   "id": "ef357420",
   "metadata": {},
   "source": [
    "The next type of plot we will move onto is the Scatterplot.  These plots are a good way of displaying relationships between variables. [6] In the analysis.py program - we have outputted Scatterplots for each pair of variables however in this Jupyter Notebook - we are going to dig a little deeper and we are going to separate the data by species on the plot itself."
   ]
  },
  {
   "cell_type": "code",
   "execution_count": 39,
   "id": "82db02c5",
   "metadata": {},
   "outputs": [],
   "source": [
    "# Getting setup for the Scatter Plots\n",
    "\n",
    "colors = ['red','green','blue'] # this defines a list of colors to be used\n",
    "species = ['Iris-setosa','Iris-versicolor','Iris-virginica'] # this is mapping the list of colors to the color\n"
   ]
  },
  {
   "cell_type": "markdown",
   "id": "6047944c",
   "metadata": {},
   "source": [
    "The code we are going to use for the Scatter is similar to what we used in analysis.py however the approach I \n",
    "am taking is to use a for loop to then cycle through each of the three species.  [7]"
   ]
  },
  {
   "cell_type": "code",
   "execution_count": 47,
   "id": "870d0194",
   "metadata": {},
   "outputs": [
    {
     "data": {
      "image/png": "[encoded data removed]",
      "text/plain": [
       "<Figure size 432x288 with 1 Axes>"
      ]
     },
     "metadata": {
      "needs_background": "light"
     },
     "output_type": "display_data"
    }
   ],
   "source": [
    "for i in range(3):    # 3 species\n",
    "    x = df[df['species'] == species[i]]           \n",
    "    plt.scatter(x['sepallength'],x['sepalwidth'], c = colors[i], label = species[i])   \n",
    "    plt.xlabel(\"Sepal Length\")\n",
    "    plt.ylabel(\"Sepal Width\")\n",
    "    plt.title(\"Sepal Length v Sepal Width\")\n",
    "    plt.legend()"
   ]
  },
  {
   "cell_type": "code",
   "execution_count": 49,
   "id": "9c2b71c3",
   "metadata": {},
   "outputs": [
    {
     "data": {
      "image/png": "[encoded data removed]",
      "text/plain": [
       "<Figure size 432x288 with 1 Axes>"
      ]
     },
     "metadata": {
      "needs_background": "light"
     },
     "output_type": "display_data"
    }
   ],
   "source": [
    "for i in range(3):\n",
    "    x = df[df['species'] == species[i]]\n",
    "    plt.scatter(x['sepallength'],x['petallength'], c = colors[i], label = species[i])\n",
    "    plt.xlabel(\"Sepal Length\")\n",
    "    plt.ylabel(\"Petal Length\")\n",
    "    plt.title(\"Sepal Length v Petal Length\")\n",
    "    plt.legend()"
   ]
  },
  {
   "cell_type": "code",
   "execution_count": 50,
   "id": "c19b0a0c",
   "metadata": {},
   "outputs": [
    {
     "data": {
      "image/png": "[encoded data removed]",
      "text/plain": [
       "<Figure size 432x288 with 1 Axes>"
      ]
     },
     "metadata": {
      "needs_background": "light"
     },
     "output_type": "display_data"
    }
   ],
   "source": [
    "for i in range(3):\n",
    "    x = df[df['species'] == species[i]]\n",
    "    plt.scatter(x['petallength'],x['petalwidth'], c = colors[i], label = species[i])\n",
    "    plt.xlabel(\"Petal Length\")\n",
    "    plt.ylabel(\"Petal Width\")\n",
    "    plt.title(\"Petal Length v Petal Width\")\n",
    "    plt.legend()"
   ]
  },
  {
   "cell_type": "code",
   "execution_count": 51,
   "id": "06bc3747",
   "metadata": {},
   "outputs": [
    {
     "data": {
      "image/png": "[encoded data removed]",
      "text/plain": [
       "<Figure size 432x288 with 1 Axes>"
      ]
     },
     "metadata": {
      "needs_background": "light"
     },
     "output_type": "display_data"
    }
   ],
   "source": [
    "for i in range(3):\n",
    "    x = df[df['species'] == species[i]]\n",
    "    plt.scatter(x['petalwidth'],x['sepalwidth'], c = colors[i], label = species[i])\n",
    "    plt.xlabel(\"Petal Width\")\n",
    "    plt.ylabel(\"Sepal Width\")\n",
    "    plt.title(\"Petal Width v Sepal Width\")\n",
    "    plt.legend()"
   ]
  },
  {
   "cell_type": "markdown",
   "id": "57d8befb",
   "metadata": {},
   "source": [
    "The above 4 Scatter Plots provide a valuable visual insight into the Iris dataset and confirm some of the earlier analysis we completed.\n",
    "\n",
    "i) Scatter 1 of the Sepal Length / Widths shows us that the sepals of the iris-setosa are typically wider but shorter than the other two species.\n",
    "\n",
    "ii) Scatter 2 of the lengths of the Sepals / Petals immediately show us that the iris-setosa is much shorter than ther other two; with the iris-virginica being the longest\n",
    "\n",
    "iii) Scatter 3 of the Petal only attributes again displays that the iris-setosa has the much smaller of the petals and the largest petals nearly always being the iris-virginica.\n",
    "\n",
    "iv) Scatter 4 of the widths shows the narrower petals but wider sepals of the iris-setosa."
   ]
  },
  {
   "cell_type": "code",
   "execution_count": null,
   "id": "30eb20bc",
   "metadata": {},
   "outputs": [],
   "source": []
  },
  {
   "cell_type": "code",
   "execution_count": null,
   "id": "18e29cd2",
   "metadata": {},
   "outputs": [],
   "source": [
    "References:\n",
    "    \n",
    "    [1]: https://pandas.pydata.org/pandas-docs/stable/reference/api/pandas.DataFrame.html\n",
    "    [2]: https://www.datasciencemadesimple.com/check-count-missing-values-pandas-python-2/\n",
    "    [3]: https://pandas.pydata.org/docs/reference/api/pandas.core.groupby.GroupBy.size.html\n",
    "    [4]: https://pandas.pydata.org/pandas-docs/stable/reference/api/pandas.DataFrame.value_counts.html\n",
    "    [5]: https://pandas.pydata.org/docs/getting_started/intro_tutorials/05_add_columns.html\n",
    "    [6]: https://chartio.com/learn/charts/what-is-a-scatter-plot/?msclkid=f6216c8ccea911ec947ddf065232159b\n",
    "    [7]: https://www.dataquest.io/blog/tutorial-advanced-for-loops-python-pandas/?msclkid=65917575ceb311ec8fb78cb933c361fc"
   ]
  }
 ],
 "metadata": {
  "kernelspec": {
   "display_name": "Python 3 (ipykernel)",
   "language": "python",
   "name": "python3"
  },
  "language_info": {
   "codemirror_mode": {
    "name": "ipython",
    "version": 3
   },
   "file_extension": ".py",
   "mimetype": "text/x-python",
   "name": "python",
   "nbconvert_exporter": "python",
   "pygments_lexer": "ipython3",
   "version": "3.9.7"
  }
 },
 "nbformat": 4,
 "nbformat_minor": 5
}
