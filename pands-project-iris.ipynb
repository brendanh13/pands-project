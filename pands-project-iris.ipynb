{
 "cells": [
  {
   "cell_type": "code",
   "execution_count": 3,
   "id": "3235c4f6",
   "metadata": {},
   "outputs": [],
   "source": [
    "# Importing Python Libraries\n",
    "\n",
    "# This will be used to import all the required Python libraries for the Project\n",
    "\n",
    "\n",
    "import pandas as pd\n",
    "import matplotlib.pyplot as plt"
   ]
  },
  {
   "cell_type": "code",
   "execution_count": 4,
   "id": "4f13bdff",
   "metadata": {},
   "outputs": [],
   "source": [
    "# Importing the Data \n",
    "\n",
    "# The Iris data set has been downloaded from the internet in .csv format and saved in the current directory\n",
    "# We then proceed to use the read_csv command to read the iris.csv file into our program\n",
    "# A typical way of referencing the data when using pandas is \"df\" so here we are setting the data set variable to be \"df\"\n",
    "\n",
    "df = pd.read_csv('iris.csv')"
   ]
  },
  {
   "cell_type": "code",
   "execution_count": 8,
   "id": "8220aa03",
   "metadata": {
    "scrolled": false
   },
   "outputs": [
    {
     "name": "stdout",
     "output_type": "stream",
     "text": [
      "   sepallength  sepalwidth  petallength  petalwidth        class\n",
      "0          5.1         3.5          1.4         0.2  Iris-setosa\n",
      "1          4.9         3.0          1.4         0.2  Iris-setosa\n",
      "2          4.7         3.2          1.3         0.2  Iris-setosa\n",
      "3          4.6         3.1          1.5         0.2  Iris-setosa\n",
      "4          5.0         3.6          1.4         0.2  Iris-setosa\n"
     ]
    }
   ],
   "source": [
    "# Data at First Glance\n",
    "\n",
    "# To get our first glance at the data - we use the head command - this will return the top 5 rows of the data set by default\n",
    "# This confirms what our analysis has pointed to:\n",
    "# 5 columnsm, 4 of which are numbers and the last column which is the class column containing the species of the flower\n",
    "\n",
    "print(df.head())"
   ]
  },
  {
   "cell_type": "code",
   "execution_count": 9,
   "id": "26361ab5",
   "metadata": {
    "scrolled": true
   },
   "outputs": [
    {
     "name": "stdout",
     "output_type": "stream",
     "text": [
      "     sepallength  sepalwidth  petallength  petalwidth           class\n",
      "145          6.7         3.0          5.2         2.3  Iris-virginica\n",
      "146          6.3         2.5          5.0         1.9  Iris-virginica\n",
      "147          6.5         3.0          5.2         2.0  Iris-virginica\n",
      "148          6.2         3.4          5.4         2.3  Iris-virginica\n",
      "149          5.9         3.0          5.1         1.8  Iris-virginica\n"
     ]
    }
   ],
   "source": [
    "# Data at First Glance\n",
    "\n",
    "# We can also look at the bottom of the data set using the tail function.\n",
    "# The benefit of this is that it will confirm to us the number of rows in set\n",
    "\n",
    "print(df.tail())"
   ]
  },
  {
   "cell_type": "markdown",
   "id": "824d59b0",
   "metadata": {},
   "source": [
    "As the index column goes from 0 to 149; this confirms to us that there are 150 rows in the data set."
   ]
  },
  {
   "cell_type": "code",
   "execution_count": 10,
   "id": "65d419b3",
   "metadata": {},
   "outputs": [
    {
     "name": "stdout",
     "output_type": "stream",
     "text": [
      "sepallength    0\n",
      "sepalwidth     0\n",
      "petallength    0\n",
      "petalwidth     0\n",
      "class          0\n",
      "dtype: int64\n"
     ]
    }
   ],
   "source": [
    "# Data Types / Quality\n",
    "\n",
    "# We want to confirm the data is as expected and that there are no gaps in it before we start to use it.\n",
    "# We will start by looking if there are any null values\n",
    "# Using an isnull function - I am asking it to count the number of null values in each colum\n",
    "\n",
    "print(df.isnull().sum())"
   ]
  },
  {
   "cell_type": "code",
   "execution_count": 11,
   "id": "ddede4b3",
   "metadata": {
    "scrolled": true
   },
   "outputs": [
    {
     "name": "stdout",
     "output_type": "stream",
     "text": [
      "<class 'pandas.core.frame.DataFrame'>\n",
      "RangeIndex: 150 entries, 0 to 149\n",
      "Data columns (total 5 columns):\n",
      " #   Column       Non-Null Count  Dtype  \n",
      "---  ------       --------------  -----  \n",
      " 0   sepallength  150 non-null    float64\n",
      " 1   sepalwidth   150 non-null    float64\n",
      " 2   petallength  150 non-null    float64\n",
      " 3   petalwidth   150 non-null    float64\n",
      " 4   class        150 non-null    object \n",
      "dtypes: float64(4), object(1)\n",
      "memory usage: 6.0+ KB\n",
      "None\n"
     ]
    }
   ],
   "source": [
    "# Data Types / Quality\n",
    "\n",
    "# The info function will provide us with further understanding about the data\n",
    "\n",
    "print(df.info())"
   ]
  },
  {
   "cell_type": "markdown",
   "id": "a45e91b7",
   "metadata": {},
   "source": [
    "To explain my understanding of the output of df.info;\n",
    "\n",
    "Line 1: <class 'pandas.core.frame.DataFrame'>\n",
    "    -> Confirms to me that we are dealing with a Pandas DataFrame (as expected)\n",
    "\n",
    "Line 2: RangeIndex: 150 entries, 0 to 149\n",
    "    -> 150 different rows of data (correct - as per earlier research)\n",
    "    \n",
    "Lines 4 - 10:\n",
    "    -> Small table clarifies what we are dealing with further:\n",
    "        i.   That each of the columns have 150 non-null values\n",
    "        ii.  That the data types for the length / width fields are float64\n",
    "        iii. That the data type for the the class is an object\n",
    "\n"
   ]
  },
  {
   "cell_type": "code",
   "execution_count": null,
   "id": "dc8db0f1",
   "metadata": {},
   "outputs": [],
   "source": []
  },
  {
   "cell_type": "code",
   "execution_count": null,
   "id": "946c4c35",
   "metadata": {},
   "outputs": [],
   "source": []
  },
  {
   "cell_type": "code",
   "execution_count": 23,
   "id": "11316f4d",
   "metadata": {},
   "outputs": [
    {
     "name": "stdout",
     "output_type": "stream",
     "text": [
      "                 max  min\n",
      "class                    \n",
      "Iris-setosa      5.8  4.3\n",
      "Iris-versicolor  7.0  4.9\n",
      "Iris-virginica   7.9  4.9\n"
     ]
    }
   ],
   "source": [
    "print(df.groupby('class')['sepallength'].describe()[['max','min']])"
   ]
  },
  {
   "cell_type": "code",
   "execution_count": 7,
   "id": "f8559231",
   "metadata": {
    "scrolled": true
   },
   "outputs": [
    {
     "ename": "SyntaxError",
     "evalue": "invalid syntax (Temp/ipykernel_5596/3827820173.py, line 1)",
     "output_type": "error",
     "traceback": [
      "\u001b[1;36m  File \u001b[1;32m\"C:\\Users\\brend\\AppData\\Local\\Temp/ipykernel_5596/3827820173.py\"\u001b[1;36m, line \u001b[1;32m1\u001b[0m\n\u001b[1;33m    git add .\u001b[0m\n\u001b[1;37m        ^\u001b[0m\n\u001b[1;31mSyntaxError\u001b[0m\u001b[1;31m:\u001b[0m invalid syntax\n"
     ]
    }
   ],
   "source": []
  },
  {
   "cell_type": "code",
   "execution_count": null,
   "id": "2f27ed94",
   "metadata": {},
   "outputs": [],
   "source": []
  }
 ],
 "metadata": {
  "kernelspec": {
   "display_name": "Python 3 (ipykernel)",
   "language": "python",
   "name": "python3"
  },
  "language_info": {
   "codemirror_mode": {
    "name": "ipython",
    "version": 3
   },
   "file_extension": ".py",
   "mimetype": "text/x-python",
   "name": "python",
   "nbconvert_exporter": "python",
   "pygments_lexer": "ipython3",
   "version": "3.9.7"
  }
 },
 "nbformat": 4,
 "nbformat_minor": 5
}
