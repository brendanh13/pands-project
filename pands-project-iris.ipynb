{
 "cells": [
  {
   "cell_type": "code",
   "execution_count": 3,
   "id": "b567481d",
   "metadata": {},
   "outputs": [],
   "source": [
    "# Importing Python Libraries\n",
    "\n",
    "# This will be used to import all the required Python libraries for the Project\n",
    "\n",
    "\n",
    "import pandas as pd\n",
    "import matplotlib.pyplot as plt"
   ]
  },
  {
   "cell_type": "code",
   "execution_count": 4,
   "id": "faaaded9",
   "metadata": {},
   "outputs": [],
   "source": [
    "# Importing the Data \n",
    "\n",
    "# The Iris data set has been downloaded from the internet in .csv format and saved in the current directory\n",
    "# We then proceed to use the read_csv command to read the iris.csv file into our program\n",
    "# A typical way of referencing the data when using pandas is \"df\" so here we are setting the data set variable to be \"df\"\n",
    "\n",
    "df = pd.read_csv('iris.csv')"
   ]
  },
  {
   "cell_type": "code",
   "execution_count": 53,
   "id": "2da6f9e0",
   "metadata": {
    "scrolled": false
   },
   "outputs": [
    {
     "name": "stdout",
     "output_type": "stream",
     "text": [
      "   sepallength  sepalwidth  petallength  petalwidth        class\n",
      "0          5.1         3.5          1.4         0.2  Iris-setosa\n",
      "1          4.9         3.0          1.4         0.2  Iris-setosa\n",
      "2          4.7         3.2          1.3         0.2  Iris-setosa\n",
      "3          4.6         3.1          1.5         0.2  Iris-setosa\n",
      "4          5.0         3.6          1.4         0.2  Iris-setosa\n"
     ]
    }
   ],
   "source": [
    "# Data at First Glance\n",
    "\n",
    "# To get our first glance at the data - we use the head command - this will return the top 5 rows of the data set by default\n",
    "# This confirms what our analysis has pointed to:\n",
    "# 5 columnsm, 4 of which are numbers and the last column which is the class column containing the species of the flower\n",
    "\n",
    "print(df.head())\n"
   ]
  },
  {
   "cell_type": "code",
   "execution_count": 9,
   "id": "745e93ad",
   "metadata": {
    "scrolled": true
   },
   "outputs": [
    {
     "name": "stdout",
     "output_type": "stream",
     "text": [
      "     sepallength  sepalwidth  petallength  petalwidth           class\n",
      "145          6.7         3.0          5.2         2.3  Iris-virginica\n",
      "146          6.3         2.5          5.0         1.9  Iris-virginica\n",
      "147          6.5         3.0          5.2         2.0  Iris-virginica\n",
      "148          6.2         3.4          5.4         2.3  Iris-virginica\n",
      "149          5.9         3.0          5.1         1.8  Iris-virginica\n"
     ]
    }
   ],
   "source": [
    "# Data at First Glance\n",
    "\n",
    "# We can also look at the bottom of the data set using the tail function.\n",
    "# The benefit of this is that it will confirm to us the number of rows in set\n",
    "\n",
    "print(df.tail())"
   ]
  },
  {
   "cell_type": "markdown",
   "id": "47cd9b46",
   "metadata": {},
   "source": [
    "As the index column goes from 0 to 149; this confirms to us that there are 150 rows in the data set."
   ]
  },
  {
   "cell_type": "code",
   "execution_count": 10,
   "id": "98cbc4cd",
   "metadata": {},
   "outputs": [
    {
     "name": "stdout",
     "output_type": "stream",
     "text": [
      "sepallength    0\n",
      "sepalwidth     0\n",
      "petallength    0\n",
      "petalwidth     0\n",
      "class          0\n",
      "dtype: int64\n"
     ]
    }
   ],
   "source": [
    "# Data Types / Quality\n",
    "\n",
    "# We want to confirm the data is as expected and that there are no gaps in it before we start to use it.\n",
    "# We will start by looking if there are any null values\n",
    "# Using an isnull function - I am asking it to count the number of null values in each colum\n",
    "\n",
    "print(df.isnull().sum())"
   ]
  },
  {
   "cell_type": "code",
   "execution_count": 11,
   "id": "ddd3cf51",
   "metadata": {
    "scrolled": true
   },
   "outputs": [
    {
     "name": "stdout",
     "output_type": "stream",
     "text": [
      "<class 'pandas.core.frame.DataFrame'>\n",
      "RangeIndex: 150 entries, 0 to 149\n",
      "Data columns (total 5 columns):\n",
      " #   Column       Non-Null Count  Dtype  \n",
      "---  ------       --------------  -----  \n",
      " 0   sepallength  150 non-null    float64\n",
      " 1   sepalwidth   150 non-null    float64\n",
      " 2   petallength  150 non-null    float64\n",
      " 3   petalwidth   150 non-null    float64\n",
      " 4   class        150 non-null    object \n",
      "dtypes: float64(4), object(1)\n",
      "memory usage: 6.0+ KB\n",
      "None\n"
     ]
    }
   ],
   "source": [
    "# Data Types / Quality\n",
    "\n",
    "# The info function will provide us with further understanding about the data\n",
    "\n",
    "print(df.info())"
   ]
  },
  {
   "cell_type": "markdown",
   "id": "8e9a5e30",
   "metadata": {},
   "source": [
    "To explain my understanding of the output of df.info;\n",
    "\n",
    "Line 1: <class 'pandas.core.frame.DataFrame'>\n",
    "    -> Confirms to me that we are dealing with a Pandas DataFrame (as expected)\n",
    "\n",
    "Line 2: RangeIndex: 150 entries, 0 to 149\n",
    "    -> 150 different rows of data (correct - as per earlier research)\n",
    "    \n",
    "Lines 4 - 10:\n",
    "    -> Small table clarifies what we are dealing with further:\n",
    "        i.   That each of the columns have 150 non-null values\n",
    "        ii.  That the data types for the length / width fields are float64\n",
    "        iii. That the data type for the the class is an object\n",
    "\n"
   ]
  },
  {
   "cell_type": "code",
   "execution_count": 41,
   "id": "5fdae34f",
   "metadata": {},
   "outputs": [
    {
     "name": "stdout",
     "output_type": "stream",
     "text": [
      "class\n",
      "Iris-setosa        50\n",
      "Iris-versicolor    50\n",
      "Iris-virginica     50\n",
      "dtype: int64\n"
     ]
    }
   ],
   "source": [
    "# Raw Data Analysis\n",
    "\n",
    "# Before we move to the more visual techniques of plotting and charting - I first want to review the data by looking\n",
    "# at it directly and making my own determinations on certain things.\n",
    "\n",
    "# e.g what can I learn by grouping certain things together\n",
    "\n",
    "# Firstly - I am going to group the class column together (which is the species) to see how these are distributed\n",
    "# Python / Pandas has a few ways we can do this - first choice here is a groupby concept where I want to group by the class\n",
    "# and compute the size of this group\n",
    "\n",
    "print(df.groupby('class').size())  "
   ]
  },
  {
   "cell_type": "markdown",
   "id": "85016719",
   "metadata": {},
   "source": [
    "The output here tells me that there is an even distribution of species; that is there are 50 of each of the 3 types of Iris"
   ]
  },
  {
   "cell_type": "code",
   "execution_count": 42,
   "id": "1c85d76b",
   "metadata": {
    "scrolled": true
   },
   "outputs": [
    {
     "name": "stdout",
     "output_type": "stream",
     "text": [
      "class\n",
      "Iris-setosa        50\n",
      "Iris-versicolor    50\n",
      "Iris-virginica     50\n",
      "dtype: int64\n"
     ]
    }
   ],
   "source": [
    "# An additional method of retrieving the same output is to use the value_counts concept - again focusing only on the species\n",
    "\n",
    "print(df.value_counts(\"class\"))"
   ]
  },
  {
   "cell_type": "markdown",
   "id": "1d3f1272",
   "metadata": {},
   "source": [
    "I am going to proceed to use the groupby concept to try learn some more about the individual species."
   ]
  },
  {
   "cell_type": "code",
   "execution_count": 44,
   "id": "eac66a31",
   "metadata": {},
   "outputs": [
    {
     "name": "stdout",
     "output_type": "stream",
     "text": [
      "       sepallength  sepalwidth  petallength  petalwidth\n",
      "count   150.000000  150.000000   150.000000  150.000000\n",
      "mean      5.843333    3.054000     3.758667    1.198667\n",
      "std       0.828066    0.433594     1.764420    0.763161\n",
      "min       4.300000    2.000000     1.000000    0.100000\n",
      "25%       5.100000    2.800000     1.600000    0.300000\n",
      "50%       5.800000    3.000000     4.350000    1.300000\n",
      "75%       6.400000    3.300000     5.100000    1.800000\n",
      "max       7.900000    4.400000     6.900000    2.500000\n"
     ]
    }
   ],
   "source": [
    "# The standard describe function within Pandas is very informative however this includes analysis of all 150 rows and \n",
    "# i dont learn anything about the individual species\n",
    "\n",
    "print(df.describe())"
   ]
  },
  {
   "cell_type": "code",
   "execution_count": 50,
   "id": "82fff81f",
   "metadata": {},
   "outputs": [
    {
     "name": "stdout",
     "output_type": "stream",
     "text": [
      "                 max  min   mean\n",
      "class                           \n",
      "Iris-setosa      5.8  4.3  5.006\n",
      "Iris-versicolor  7.0  4.9  5.936\n",
      "Iris-virginica   7.9  4.9  6.588\n",
      "                 max  min   mean\n",
      "class                           \n",
      "Iris-setosa      1.9  1.0  1.464\n",
      "Iris-versicolor  5.1  3.0  4.260\n",
      "Iris-virginica   6.9  4.5  5.552\n",
      "                 max  min   mean\n",
      "class                           \n",
      "Iris-setosa      4.4  2.3  3.418\n",
      "Iris-versicolor  3.4  2.0  2.770\n",
      "Iris-virginica   3.8  2.2  2.974\n",
      "                 max  min   mean\n",
      "class                           \n",
      "Iris-setosa      0.6  0.1  0.244\n",
      "Iris-versicolor  1.8  1.0  1.326\n",
      "Iris-virginica   2.5  1.4  2.026\n"
     ]
    }
   ],
   "source": [
    "# To get similar informations on particualr species - I need to add in a groupby on the class.\n",
    "# I am also here going to do one column at a time (e.g sepallength) so that the output is not too confusing.\n",
    "\n",
    "print(df.groupby('class')['sepallength'].describe()[['max','min','mean']])\n",
    "print(df.groupby('class')['petallength'].describe()[['max','min','mean']])\n",
    "print(df.groupby('class')['sepalwidth'].describe()[['max','min','mean']])\n",
    "print(df.groupby('class')['petalwidth'].describe()[['max','min','mean']])"
   ]
  },
  {
   "cell_type": "markdown",
   "id": "bc4436f2",
   "metadata": {},
   "source": [
    "When I review the output above - I can quickly make some basic statements about certain species:\n",
    "\n",
    "a. Both the maximum petalwidth (0.6) and petallength (1.9) of the Iris-setosa are less than the minimum petalwidth (1/1.4) and petallength (3/4.5) of both other species => the petals of the Iris-setosa are typically always smaller than Iris-versicolor and Iris-virginica\n",
    "\n",
    "b. The characteristics of the sepals are not as conclusive - all three species share a minimum sepallength in the 4.3 - 4.9 range and a minimum sepalwidth in the 2 - 2.3 range.  We cannot make any explicit statements with regards to sepals like we could with petals in a. above\n",
    "\n",
    "c. Even though the Iris-setosa has the smallest petals; the sepals of the Iris-setosa are wider (Mean = 3.418) than both the others (Means are 2.770/2.974) => the Iris-setosa coule be described as having very small petals with much larger sepals\n",
    "\n",
    "d. Both the Iris-versicolor and Iris-virginica share quite relatively similar attributes sizings at first glance - it will be interesting to see how these look when we start to plot these later. "
   ]
  },
  {
   "cell_type": "markdown",
   "id": "c790fd1c",
   "metadata": {},
   "source": [
    "Analysis thus far has been on the 4 columns of numbers; the legnths and widths of the sepals and petals of each flower. I am going to now see if I can learn anything by combining the length and width together.  I will do a multiplication; that is length * width and we will call this the area (e.g sepalarea) Similar to getting the area of a regular shape like a rectangle - the formula for this is length * width.  Even though these flower parts are not regular shapes - I still believe we can learn something more about the individual species by doing this calculation"
   ]
  },
  {
   "cell_type": "code",
   "execution_count": 60,
   "id": "13e9862f",
   "metadata": {},
   "outputs": [],
   "source": [
    "# Adding new columns to the Pandas Dataframe\n",
    "\n",
    "# To add the columns we need to provide a name for the new column and the forumla to derive the new column\n",
    "\n",
    "df[\"sepalarea\"] = (df.sepallength*df.sepalwidth)\n",
    "df[\"petalarea\"] = (df.petallength*df.petalwidth)"
   ]
  },
  {
   "cell_type": "code",
   "execution_count": 62,
   "id": "e4f97d56",
   "metadata": {},
   "outputs": [
    {
     "data": {
      "text/html": [
       "<div>\n",
       "<style scoped>\n",
       "    .dataframe tbody tr th:only-of-type {\n",
       "        vertical-align: middle;\n",
       "    }\n",
       "\n",
       "    .dataframe tbody tr th {\n",
       "        vertical-align: top;\n",
       "    }\n",
       "\n",
       "    .dataframe thead th {\n",
       "        text-align: right;\n",
       "    }\n",
       "</style>\n",
       "<table border=\"1\" class=\"dataframe\">\n",
       "  <thead>\n",
       "    <tr style=\"text-align: right;\">\n",
       "      <th></th>\n",
       "      <th>sepallength</th>\n",
       "      <th>sepalwidth</th>\n",
       "      <th>petallength</th>\n",
       "      <th>petalwidth</th>\n",
       "      <th>class</th>\n",
       "      <th>sepalarea</th>\n",
       "      <th>petalarea</th>\n",
       "    </tr>\n",
       "  </thead>\n",
       "  <tbody>\n",
       "    <tr>\n",
       "      <th>0</th>\n",
       "      <td>5.1</td>\n",
       "      <td>3.5</td>\n",
       "      <td>1.4</td>\n",
       "      <td>0.2</td>\n",
       "      <td>Iris-setosa</td>\n",
       "      <td>17.85</td>\n",
       "      <td>0.28</td>\n",
       "    </tr>\n",
       "    <tr>\n",
       "      <th>1</th>\n",
       "      <td>4.9</td>\n",
       "      <td>3.0</td>\n",
       "      <td>1.4</td>\n",
       "      <td>0.2</td>\n",
       "      <td>Iris-setosa</td>\n",
       "      <td>14.70</td>\n",
       "      <td>0.28</td>\n",
       "    </tr>\n",
       "    <tr>\n",
       "      <th>2</th>\n",
       "      <td>4.7</td>\n",
       "      <td>3.2</td>\n",
       "      <td>1.3</td>\n",
       "      <td>0.2</td>\n",
       "      <td>Iris-setosa</td>\n",
       "      <td>15.04</td>\n",
       "      <td>0.26</td>\n",
       "    </tr>\n",
       "    <tr>\n",
       "      <th>3</th>\n",
       "      <td>4.6</td>\n",
       "      <td>3.1</td>\n",
       "      <td>1.5</td>\n",
       "      <td>0.2</td>\n",
       "      <td>Iris-setosa</td>\n",
       "      <td>14.26</td>\n",
       "      <td>0.30</td>\n",
       "    </tr>\n",
       "    <tr>\n",
       "      <th>4</th>\n",
       "      <td>5.0</td>\n",
       "      <td>3.6</td>\n",
       "      <td>1.4</td>\n",
       "      <td>0.2</td>\n",
       "      <td>Iris-setosa</td>\n",
       "      <td>18.00</td>\n",
       "      <td>0.28</td>\n",
       "    </tr>\n",
       "  </tbody>\n",
       "</table>\n",
       "</div>"
      ],
      "text/plain": [
       "   sepallength  sepalwidth  petallength  petalwidth        class  sepalarea  \\\n",
       "0          5.1         3.5          1.4         0.2  Iris-setosa      17.85   \n",
       "1          4.9         3.0          1.4         0.2  Iris-setosa      14.70   \n",
       "2          4.7         3.2          1.3         0.2  Iris-setosa      15.04   \n",
       "3          4.6         3.1          1.5         0.2  Iris-setosa      14.26   \n",
       "4          5.0         3.6          1.4         0.2  Iris-setosa      18.00   \n",
       "\n",
       "   petalarea  \n",
       "0       0.28  \n",
       "1       0.28  \n",
       "2       0.26  \n",
       "3       0.30  \n",
       "4       0.28  "
      ]
     },
     "execution_count": 62,
     "metadata": {},
     "output_type": "execute_result"
    }
   ],
   "source": [
    "# Looking at the data - we now see the additional two columns at the end\n",
    "\n",
    "df.head()"
   ]
  },
  {
   "cell_type": "code",
   "execution_count": 63,
   "id": "f7d4ac55",
   "metadata": {},
   "outputs": [
    {
     "name": "stdout",
     "output_type": "stream",
     "text": [
      "                   max    min     mean\n",
      "class                                 \n",
      "Iris-setosa      25.08  10.35  17.2088\n",
      "Iris-versicolor  22.40  10.00  16.5262\n",
      "Iris-virginica   30.02  12.25  19.6846\n",
      "                   max   min     mean\n",
      "class                                \n",
      "Iris-setosa       0.96  0.11   0.3628\n",
      "Iris-versicolor   8.64  3.30   5.7204\n",
      "Iris-virginica   15.87  7.50  11.2962\n"
     ]
    }
   ],
   "source": [
    "# Then to see if i can find this useful - I will use an earlier groupby function to help analyze the areas\n",
    "\n",
    "print(df.groupby('class')['sepalarea'].describe()[['max','min','mean']])\n",
    "print(df.groupby('class')['petalarea'].describe()[['max','min','mean']])"
   ]
  },
  {
   "cell_type": "markdown",
   "id": "e65eb67d",
   "metadata": {},
   "source": [
    "With a quick view of this data - again i can see some obvious trends repeating themselves and some new information appearing:\n",
    "\n",
    "a. sepalarea confirms that the sepal size is relatively similar as the means are all between 17.2 and 19.7\n",
    "\n",
    "b. petalarea clarifies that the Iris-setosa has a much smaller petal however the petalarea for the other two species has a much broader range in mean than i expected.  Iris-versicolor has a mean petal area pf 5.7204 while the Iris-virginica is nearly double that at 11.2962.  I found this interesting as the mean petallength value for these species was much closer in size; 4.26 v 5.552"
   ]
  }
 ],
 "metadata": {
  "kernelspec": {
   "display_name": "Python 3 (ipykernel)",
   "language": "python",
   "name": "python3"
  },
  "language_info": {
   "codemirror_mode": {
    "name": "ipython",
    "version": 3
   },
   "file_extension": ".py",
   "mimetype": "text/x-python",
   "name": "python",
   "nbconvert_exporter": "python",
   "pygments_lexer": "ipython3",
   "version": "3.9.7"
  }
 },
 "nbformat": 4,
 "nbformat_minor": 5
}
